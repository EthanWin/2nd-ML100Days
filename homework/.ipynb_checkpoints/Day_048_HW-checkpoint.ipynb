{
 "cells": [
  {
   "cell_type": "code",
   "execution_count": 3,
   "metadata": {},
   "outputs": [
    {
     "name": "stdout",
     "output_type": "stream",
     "text": [
      "['test.csv', 'train.csv', 'trainLabels.csv']\n"
     ]
    }
   ],
   "source": [
    "import numpy as np # linear algebra\n",
    "import pandas as pd\n",
    "import os\n",
    "print(os.listdir(\"input/\"))"
   ]
  },
  {
   "cell_type": "code",
   "execution_count": 4,
   "metadata": {
    "collapsed": true
   },
   "outputs": [],
   "source": [
    "import pandas as pd\n",
    "data=pd.read_csv(\"input/train.csv\")\n",
    "target=pd.read_csv(\"input/trainLabels.csv\")"
   ]
  },
  {
   "cell_type": "code",
   "execution_count": 6,
   "metadata": {},
   "outputs": [
    {
     "name": "stderr",
     "output_type": "stream",
     "text": [
      "C:\\Users\\ethan.wu\\AppData\\Local\\Continuum\\anaconda3\\lib\\site-packages\\sklearn\\ensemble\\gradient_boosting.py:1450: DataConversionWarning: A column-vector y was passed when a 1d array was expected. Please change the shape of y to (n_samples, ), for example using ravel().\n",
      "  y = column_or_1d(y, warn=True)\n"
     ]
    }
   ],
   "source": [
    "from sklearn.ensemble import GradientBoostingClassifier\n",
    "from sklearn.model_selection import train_test_split\n",
    "x_train, x_test, y_train, y_test = train_test_split(data, target, test_size=0.25, random_state=4)\n",
    "\n",
    "# 建立模型\n",
    "clf = GradientBoostingClassifier()\n",
    "\n",
    "# 訓練模型\n",
    "clf.fit(x_train, y_train)\n",
    "\n",
    "# 預測測試集\n",
    "y_pred = clf.predict(x_test)"
   ]
  },
  {
   "cell_type": "code",
   "execution_count": 12,
   "metadata": {},
   "outputs": [
    {
     "data": {
      "text/html": [
       "<div>\n",
       "<style>\n",
       "    .dataframe thead tr:only-child th {\n",
       "        text-align: right;\n",
       "    }\n",
       "\n",
       "    .dataframe thead th {\n",
       "        text-align: left;\n",
       "    }\n",
       "\n",
       "    .dataframe tbody tr th {\n",
       "        vertical-align: top;\n",
       "    }\n",
       "</style>\n",
       "<table border=\"1\" class=\"dataframe\">\n",
       "  <thead>\n",
       "    <tr style=\"text-align: right;\">\n",
       "      <th></th>\n",
       "      <th>0.29940251144353242</th>\n",
       "      <th>-1.2266241875260637</th>\n",
       "      <th>1.4984250500215328</th>\n",
       "      <th>-1.1761503610375272</th>\n",
       "      <th>5.2898525545597037</th>\n",
       "      <th>0.20829711393323402</th>\n",
       "      <th>2.4044983672405826</th>\n",
       "      <th>1.5945062220589785</th>\n",
       "      <th>-0.051608163273514231</th>\n",
       "      <th>0.66323431039687908</th>\n",
       "      <th>...</th>\n",
       "      <th>-0.85046544625016463</th>\n",
       "      <th>-0.62298999638261954</th>\n",
       "      <th>-1.8330573433160038</th>\n",
       "      <th>0.29302438506869571</th>\n",
       "      <th>3.5526813410266507</th>\n",
       "      <th>0.71761099417552265</th>\n",
       "      <th>3.3059719748508889</th>\n",
       "      <th>-2.7155588147154619</th>\n",
       "      <th>-2.6824085866346223</th>\n",
       "      <th>0.10105047232890663</th>\n",
       "    </tr>\n",
       "  </thead>\n",
       "  <tbody>\n",
       "    <tr>\n",
       "      <th>209</th>\n",
       "      <td>-1.452911</td>\n",
       "      <td>-1.002057</td>\n",
       "      <td>0.364226</td>\n",
       "      <td>-0.040456</td>\n",
       "      <td>-1.569109</td>\n",
       "      <td>1.603593</td>\n",
       "      <td>1.248532</td>\n",
       "      <td>3.266590</td>\n",
       "      <td>1.012206</td>\n",
       "      <td>2.011419</td>\n",
       "      <td>...</td>\n",
       "      <td>0.906080</td>\n",
       "      <td>1.014298</td>\n",
       "      <td>-3.233281</td>\n",
       "      <td>-0.037237</td>\n",
       "      <td>-1.847736</td>\n",
       "      <td>-1.274617</td>\n",
       "      <td>0.340199</td>\n",
       "      <td>0.894817</td>\n",
       "      <td>-2.468203</td>\n",
       "      <td>2.706232</td>\n",
       "    </tr>\n",
       "    <tr>\n",
       "      <th>452</th>\n",
       "      <td>-0.498221</td>\n",
       "      <td>1.350252</td>\n",
       "      <td>-0.807583</td>\n",
       "      <td>0.069361</td>\n",
       "      <td>8.348473</td>\n",
       "      <td>1.143363</td>\n",
       "      <td>0.531381</td>\n",
       "      <td>1.050851</td>\n",
       "      <td>0.708069</td>\n",
       "      <td>0.688274</td>\n",
       "      <td>...</td>\n",
       "      <td>1.340971</td>\n",
       "      <td>0.265190</td>\n",
       "      <td>-1.008311</td>\n",
       "      <td>-0.766311</td>\n",
       "      <td>-5.948712</td>\n",
       "      <td>1.209750</td>\n",
       "      <td>-3.408365</td>\n",
       "      <td>0.216629</td>\n",
       "      <td>-1.883419</td>\n",
       "      <td>2.408678</td>\n",
       "    </tr>\n",
       "    <tr>\n",
       "      <th>518</th>\n",
       "      <td>2.503621</td>\n",
       "      <td>1.644663</td>\n",
       "      <td>0.675757</td>\n",
       "      <td>0.679266</td>\n",
       "      <td>4.560514</td>\n",
       "      <td>0.542991</td>\n",
       "      <td>0.832775</td>\n",
       "      <td>-1.039076</td>\n",
       "      <td>-0.117353</td>\n",
       "      <td>1.340782</td>\n",
       "      <td>...</td>\n",
       "      <td>0.980959</td>\n",
       "      <td>0.092503</td>\n",
       "      <td>-1.182699</td>\n",
       "      <td>1.861004</td>\n",
       "      <td>-2.437093</td>\n",
       "      <td>-0.248408</td>\n",
       "      <td>1.257091</td>\n",
       "      <td>0.102263</td>\n",
       "      <td>3.288324</td>\n",
       "      <td>2.390710</td>\n",
       "    </tr>\n",
       "    <tr>\n",
       "      <th>965</th>\n",
       "      <td>0.663810</td>\n",
       "      <td>0.571980</td>\n",
       "      <td>-0.184996</td>\n",
       "      <td>0.330484</td>\n",
       "      <td>10.417309</td>\n",
       "      <td>1.056073</td>\n",
       "      <td>-7.224761</td>\n",
       "      <td>0.495527</td>\n",
       "      <td>-0.787579</td>\n",
       "      <td>-0.616777</td>\n",
       "      <td>...</td>\n",
       "      <td>0.178382</td>\n",
       "      <td>-1.214002</td>\n",
       "      <td>1.292896</td>\n",
       "      <td>0.074806</td>\n",
       "      <td>0.148085</td>\n",
       "      <td>0.228482</td>\n",
       "      <td>-1.186237</td>\n",
       "      <td>0.565081</td>\n",
       "      <td>-2.413029</td>\n",
       "      <td>0.335641</td>\n",
       "    </tr>\n",
       "    <tr>\n",
       "      <th>924</th>\n",
       "      <td>-0.195679</td>\n",
       "      <td>-2.104049</td>\n",
       "      <td>0.534948</td>\n",
       "      <td>-0.576010</td>\n",
       "      <td>5.948316</td>\n",
       "      <td>0.464935</td>\n",
       "      <td>-2.585304</td>\n",
       "      <td>-0.721169</td>\n",
       "      <td>0.275994</td>\n",
       "      <td>-0.170231</td>\n",
       "      <td>...</td>\n",
       "      <td>0.557596</td>\n",
       "      <td>-1.247142</td>\n",
       "      <td>2.246347</td>\n",
       "      <td>-1.198144</td>\n",
       "      <td>-4.046832</td>\n",
       "      <td>-1.376436</td>\n",
       "      <td>4.979986</td>\n",
       "      <td>-0.746385</td>\n",
       "      <td>-1.648355</td>\n",
       "      <td>-2.858766</td>\n",
       "    </tr>\n",
       "  </tbody>\n",
       "</table>\n",
       "<p>5 rows × 40 columns</p>\n",
       "</div>"
      ],
      "text/plain": [
       "     0.29940251144353242  -1.2266241875260637  1.4984250500215328  \\\n",
       "209            -1.452911            -1.002057            0.364226   \n",
       "452            -0.498221             1.350252           -0.807583   \n",
       "518             2.503621             1.644663            0.675757   \n",
       "965             0.663810             0.571980           -0.184996   \n",
       "924            -0.195679            -2.104049            0.534948   \n",
       "\n",
       "     -1.1761503610375272  5.2898525545597037  0.20829711393323402  \\\n",
       "209            -0.040456           -1.569109             1.603593   \n",
       "452             0.069361            8.348473             1.143363   \n",
       "518             0.679266            4.560514             0.542991   \n",
       "965             0.330484           10.417309             1.056073   \n",
       "924            -0.576010            5.948316             0.464935   \n",
       "\n",
       "     2.4044983672405826  1.5945062220589785  -0.051608163273514231  \\\n",
       "209            1.248532            3.266590               1.012206   \n",
       "452            0.531381            1.050851               0.708069   \n",
       "518            0.832775           -1.039076              -0.117353   \n",
       "965           -7.224761            0.495527              -0.787579   \n",
       "924           -2.585304           -0.721169               0.275994   \n",
       "\n",
       "     0.66323431039687908         ...           -0.85046544625016463  \\\n",
       "209             2.011419         ...                       0.906080   \n",
       "452             0.688274         ...                       1.340971   \n",
       "518             1.340782         ...                       0.980959   \n",
       "965            -0.616777         ...                       0.178382   \n",
       "924            -0.170231         ...                       0.557596   \n",
       "\n",
       "     -0.62298999638261954  -1.8330573433160038  0.29302438506869571  \\\n",
       "209              1.014298            -3.233281            -0.037237   \n",
       "452              0.265190            -1.008311            -0.766311   \n",
       "518              0.092503            -1.182699             1.861004   \n",
       "965             -1.214002             1.292896             0.074806   \n",
       "924             -1.247142             2.246347            -1.198144   \n",
       "\n",
       "     3.5526813410266507  0.71761099417552265  3.3059719748508889  \\\n",
       "209           -1.847736            -1.274617            0.340199   \n",
       "452           -5.948712             1.209750           -3.408365   \n",
       "518           -2.437093            -0.248408            1.257091   \n",
       "965            0.148085             0.228482           -1.186237   \n",
       "924           -4.046832            -1.376436            4.979986   \n",
       "\n",
       "     -2.7155588147154619  -2.6824085866346223  0.10105047232890663  \n",
       "209             0.894817            -2.468203             2.706232  \n",
       "452             0.216629            -1.883419             2.408678  \n",
       "518             0.102263             3.288324             2.390710  \n",
       "965             0.565081            -2.413029             0.335641  \n",
       "924            -0.746385            -1.648355            -2.858766  \n",
       "\n",
       "[5 rows x 40 columns]"
      ]
     },
     "execution_count": 12,
     "metadata": {},
     "output_type": "execute_result"
    }
   ],
   "source": [
    "x_train.head()"
   ]
  },
  {
   "cell_type": "code",
   "execution_count": 11,
   "metadata": {},
   "outputs": [
    {
     "data": {
      "text/plain": [
       "array([0, 1, 0, 0, 0, 1, 1, 1, 0, 1, 0, 1, 0, 0, 1, 0, 0, 0, 1, 1, 0, 1,\n",
       "       0, 0, 1, 1, 1, 1, 1, 0, 0, 1, 0, 1, 1, 0, 0, 1, 0, 1, 0, 1, 0, 1,\n",
       "       0, 1, 0, 1, 1, 0, 0, 0, 1, 1, 0, 1, 0, 1, 1, 1, 0, 0, 0, 0, 1, 0,\n",
       "       0, 0, 0, 1, 1, 1, 0, 1, 1, 1, 0, 1, 0, 1, 0, 0, 0, 0, 1, 0, 0, 0,\n",
       "       1, 0, 0, 1, 1, 0, 0, 1, 1, 0, 1, 1, 0, 0, 1, 1, 0, 0, 0, 1, 0, 1,\n",
       "       0, 0, 0, 0, 1, 1, 0, 0, 0, 1, 0, 0, 0, 0, 0, 1, 1, 1, 0, 1, 1, 0,\n",
       "       0, 0, 0, 0, 0, 0, 1, 1, 0, 0, 1, 0, 0, 0, 1, 1, 1, 0, 1, 0, 1, 0,\n",
       "       0, 0, 0, 1, 1, 1, 1, 0, 0, 1, 0, 1, 1, 1, 1, 1, 0, 1, 0, 1, 0, 0,\n",
       "       1, 0, 1, 1, 0, 1, 1, 0, 1, 0, 0, 0, 1, 0, 1, 0, 0, 1, 0, 0, 1, 1,\n",
       "       1, 0, 1, 1, 1, 0, 1, 0, 1, 0, 1, 1, 1, 0, 1, 0, 1, 0, 0, 1, 0, 1,\n",
       "       1, 1, 0, 0, 0, 0, 1, 0, 1, 1, 0, 0, 0, 1, 0, 0, 0, 0, 0, 0, 1, 0,\n",
       "       1, 1, 1, 1, 0, 1, 0, 1], dtype=int64)"
      ]
     },
     "execution_count": 11,
     "metadata": {},
     "output_type": "execute_result"
    }
   ],
   "source": [
    "rfc_best.fit(gmm_train,train_labels.values.ravel())\n",
    "pred  = rfc_best.predict(gmm_test)\n",
    "rfc_best_pred = pd.DataFrame(pred)\n",
    "\n",
    "rfc_best_pred.index += 1\n",
    "\n",
    "rfc_best_pred.columns = ['Solution']\n",
    "rfc_best_pred['Id'] = np.arange(1,rfc_best_pred.shape[0]+1)\n",
    "rfc_best_pred = rfc_best_pred[['Id', 'Solution']]\n",
    "\n",
    "rfc_best_pred.to_csv('Submission_GMM_RFC.csv',index=False)"
   ]
  },
  {
   "cell_type": "code",
   "execution_count": 10,
   "metadata": {},
   "outputs": [
    {
     "data": {
      "text/plain": [
       "0.848"
      ]
     },
     "execution_count": 10,
     "metadata": {},
     "output_type": "execute_result"
    }
   ],
   "source": [
    "clf.score(x_test,y_test)"
   ]
  }
 ],
 "metadata": {
  "kernelspec": {
   "display_name": "Python 3",
   "language": "python",
   "name": "python3"
  },
  "language_info": {
   "codemirror_mode": {
    "name": "ipython",
    "version": 3
   },
   "file_extension": ".py",
   "mimetype": "text/x-python",
   "name": "python",
   "nbconvert_exporter": "python",
   "pygments_lexer": "ipython3",
   "version": "3.6.3"
  }
 },
 "nbformat": 4,
 "nbformat_minor": 2
}
