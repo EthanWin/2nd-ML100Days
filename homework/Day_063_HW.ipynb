{
 "cells": [
  {
   "cell_type": "markdown",
   "metadata": {},
   "source": [
    "# 作業\n",
    "* 在精簡深度學習的方式上 : 卷積類神經 (CNN) 採用像素遠近，而遞歸類神經 (RNN) 採用著則是時間遠近\n",
    "* 那麼，既然有著類似的設計精神，兩者是否有可能互換應用呢?"
   ]
  },
  {
   "cell_type": "code",
   "execution_count": null,
   "metadata": {
    "collapsed": true
   },
   "outputs": [],
   "source": [
    "可以!在應用上可以組合\n",
    "兩者有不同的特點:\n",
    "CNN進行空間擴展，神經元與特徵卷積；RNN進行時間擴展，神經元與多個時間輸出計算；\n",
    "RNN可以用於描述時間上連續狀態的輸出，有記憶功能；CNN則用於靜態輸出；\n",
    "CNN高級結構可以達到100+深度；RNN的深度有限。\n",
    "\n",
    "CNN特徵提取，用於RNN語句生成->圖片標註\n",
    "RNN特徵提取用於CNN內容分類->視頻分類\n",
    "\n",
    "\n",
    "原文網址：https://kknews.cc/tech/bl9zaam.html"
   ]
  }
 ],
 "metadata": {
  "kernelspec": {
   "display_name": "Python 3",
   "language": "python",
   "name": "python3"
  },
  "language_info": {
   "codemirror_mode": {
    "name": "ipython",
    "version": 3
   },
   "file_extension": ".py",
   "mimetype": "text/x-python",
   "name": "python",
   "nbconvert_exporter": "python",
   "pygments_lexer": "ipython3",
   "version": "3.6.3"
  }
 },
 "nbformat": 4,
 "nbformat_minor": 2
}
